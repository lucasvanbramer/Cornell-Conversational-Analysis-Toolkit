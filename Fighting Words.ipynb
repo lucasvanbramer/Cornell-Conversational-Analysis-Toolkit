{
 "cells": [
  {
   "cell_type": "code",
   "execution_count": 1,
   "metadata": {},
   "outputs": [],
   "source": [
    "from fightin_words import *"
   ]
  },
  {
   "cell_type": "code",
   "execution_count": 2,
   "metadata": {},
   "outputs": [],
   "source": [
    "l1 = 'The quick brown fox jumps over the lazy pig'\n",
    "l2 = 'The lazy purple pig jumps over the lazier donkey'"
   ]
  },
  {
   "cell_type": "code",
   "execution_count": 3,
   "metadata": {},
   "outputs": [],
   "source": [
    "import sklearn.feature_extraction.text as sk_text"
   ]
  },
  {
   "cell_type": "code",
   "execution_count": 4,
   "metadata": {},
   "outputs": [],
   "source": [
    "prior = 0.05\n",
    "cv = sk_text.CountVectorizer(max_features=15000)"
   ]
  },
  {
   "cell_type": "code",
   "execution_count": 5,
   "metadata": {},
   "outputs": [
    {
     "data": {
      "text/plain": [
       "[('brown', -0.11159788992602564),\n",
       " ('donkey', -0.11159788992602564),\n",
       " ('fox', -0.11159788992602564),\n",
       " ('lazier', -0.11159788992602564),\n",
       " ('purple', -0.11159788992602564),\n",
       " ('quick', -0.11159788992602564),\n",
       " ('jumps', 0.04795579532980462),\n",
       " ('lazy', 0.04795579532980462),\n",
       " ('over', 0.04795579532980462),\n",
       " ('pig', 0.04795579532980462),\n",
       " ('the', 0.22827369129510436)]"
      ]
     },
     "execution_count": 5,
     "metadata": {},
     "output_type": "execute_result"
    }
   ],
   "source": [
    "FWExtractor(prior, cv).fit_transform([l1, l2])"
   ]
  },
  {
   "cell_type": "code",
   "execution_count": null,
   "metadata": {},
   "outputs": [],
   "source": []
  }
 ],
 "metadata": {
  "kernelspec": {
   "display_name": "Python 3.6",
   "language": "python",
   "name": "python36"
  },
  "language_info": {
   "codemirror_mode": {
    "name": "ipython",
    "version": 3
   },
   "file_extension": ".py",
   "mimetype": "text/x-python",
   "name": "python",
   "nbconvert_exporter": "python",
   "pygments_lexer": "ipython3",
   "version": "3.6.6"
  }
 },
 "nbformat": 4,
 "nbformat_minor": 2
}
