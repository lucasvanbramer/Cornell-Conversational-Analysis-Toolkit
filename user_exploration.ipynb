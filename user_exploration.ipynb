{
 "cells": [
  {
   "cell_type": "code",
   "execution_count": 1,
   "metadata": {
    "colab": {},
    "colab_type": "code",
    "id": "4gfsLARjCnw5"
   },
   "outputs": [],
   "source": [
    "import convokit"
   ]
  },
  {
   "cell_type": "code",
   "execution_count": 2,
   "metadata": {
    "colab": {},
    "colab_type": "code",
    "id": "91ImBZ1aCuio"
   },
   "outputs": [],
   "source": [
    "from convokit import Corpus, User, download"
   ]
  },
  {
   "cell_type": "markdown",
   "metadata": {},
   "source": [
    "### Downloading dataset"
   ]
  },
  {
   "cell_type": "code",
   "execution_count": 3,
   "metadata": {
    "colab": {
     "base_uri": "https://localhost:8080/",
     "height": 34
    },
    "colab_type": "code",
    "id": "mPpbvVV5Czye",
    "outputId": "2fed8c5a-2326-4a16-f549-13e14c686b4a"
   },
   "outputs": [
    {
     "name": "stdout",
     "output_type": "stream",
     "text": [
      "Dataset already exists at /home/lucas/.convokit/downloads/subreddit-germany\n"
     ]
    }
   ],
   "source": [
    "# de = Corpus(filename=download(\"subreddit-de\"))\n",
    "germany = Corpus(filename=download(\"subreddit-germany\"))"
   ]
  },
  {
   "cell_type": "markdown",
   "metadata": {},
   "source": [
    "#### Getting common users"
   ]
  },
  {
   "cell_type": "code",
   "execution_count": 4,
   "metadata": {},
   "outputs": [
    {
     "ename": "NameError",
     "evalue": "name 'de' is not defined",
     "output_type": "error",
     "traceback": [
      "\u001b[0;31m---------------------------------------------------------------------------\u001b[0m",
      "\u001b[0;31mNameError\u001b[0m                                 Traceback (most recent call last)",
      "\u001b[0;32m<ipython-input-4-965fd866e7b2>\u001b[0m in \u001b[0;36m<module>\u001b[0;34m\u001b[0m\n\u001b[1;32m      1\u001b[0m \u001b[0meng_users\u001b[0m \u001b[0;34m=\u001b[0m \u001b[0mset\u001b[0m\u001b[0;34m(\u001b[0m\u001b[0;34m)\u001b[0m\u001b[0;34m\u001b[0m\u001b[0;34m\u001b[0m\u001b[0m\n\u001b[1;32m      2\u001b[0m \u001b[0mde_users\u001b[0m \u001b[0;34m=\u001b[0m \u001b[0mset\u001b[0m\u001b[0;34m(\u001b[0m\u001b[0;34m)\u001b[0m\u001b[0;34m\u001b[0m\u001b[0;34m\u001b[0m\u001b[0m\n\u001b[0;32m----> 3\u001b[0;31m \u001b[0;32mfor\u001b[0m \u001b[0musr\u001b[0m \u001b[0;32min\u001b[0m \u001b[0mde\u001b[0m\u001b[0;34m.\u001b[0m\u001b[0miter_users\u001b[0m\u001b[0;34m(\u001b[0m\u001b[0;34m)\u001b[0m\u001b[0;34m:\u001b[0m\u001b[0;34m\u001b[0m\u001b[0;34m\u001b[0m\u001b[0m\n\u001b[0m\u001b[1;32m      4\u001b[0m     \u001b[0mde_users\u001b[0m\u001b[0;34m.\u001b[0m\u001b[0madd\u001b[0m\u001b[0;34m(\u001b[0m\u001b[0musr\u001b[0m\u001b[0;34m.\u001b[0m\u001b[0mname\u001b[0m\u001b[0;34m)\u001b[0m\u001b[0;34m\u001b[0m\u001b[0;34m\u001b[0m\u001b[0m\n\u001b[1;32m      5\u001b[0m \u001b[0;32mfor\u001b[0m \u001b[0musr\u001b[0m \u001b[0;32min\u001b[0m \u001b[0mgermany\u001b[0m\u001b[0;34m.\u001b[0m\u001b[0miter_users\u001b[0m\u001b[0;34m(\u001b[0m\u001b[0;34m)\u001b[0m\u001b[0;34m:\u001b[0m\u001b[0;34m\u001b[0m\u001b[0;34m\u001b[0m\u001b[0m\n",
      "\u001b[0;31mNameError\u001b[0m: name 'de' is not defined"
     ]
    }
   ],
   "source": [
    "eng_users = set()\n",
    "de_users = set()\n",
    "for usr in de.iter_users():\n",
    "    de_users.add(usr.name)\n",
    "for usr in germany.iter_users():\n",
    "    eng_users.add(usr.name)"
   ]
  },
  {
   "cell_type": "code",
   "execution_count": null,
   "metadata": {},
   "outputs": [],
   "source": [
    "common_users = list(eng_users.intersection(de_users))\n",
    "print(len(common_users))\n",
    "eng_only_users = list(eng_users.difference(de_users))\n",
    "print(len(eng_only_users))"
   ]
  },
  {
   "cell_type": "code",
   "execution_count": null,
   "metadata": {},
   "outputs": [],
   "source": [
    "common_users[0]"
   ]
  },
  {
   "cell_type": "markdown",
   "metadata": {},
   "source": [
    "#### Extract texts that bilingual users posted in English"
   ]
  },
  {
   "cell_type": "code",
   "execution_count": null,
   "metadata": {},
   "outputs": [],
   "source": [
    "user_conv = {}\n",
    "for utt in germany.iter_utterances():\n",
    "    usr = utt.user.name\n",
    "    if usr not in common_users or usr == '[deleted]':\n",
    "        continue\n",
    "    if usr not in user_conv and utt.text != '':\n",
    "        user_conv[usr] = [utt.text]\n",
    "    elif usr in user_conv and utt.text != '':\n",
    "        user_conv[usr].append(utt.text)"
   ]
  },
  {
   "cell_type": "code",
   "execution_count": 55,
   "metadata": {},
   "outputs": [
    {
     "name": "stdout",
     "output_type": "stream",
     "text": [
      "['Come of you please give us some context?', 'It actually is, the lower plaque below the old ASU sticker is gone.', \"True that - nothing really wants to kill you in German Forests... just make sure to follow any posted warnings for tree felling and you should be good.\\nOh yeah and don't just eat any mushroom! Enjoy!\", 'G’socks\\ngrattler', 'I heard Congstar is great for such needs.', 'I would also add your education to this. If you are a hairdresser and make six figures with your own salon big props - if you are a automotive engineer in Munich or Stuttgart and are living in your parents basement at the age of 30 because you can’t afford to move out .. well then there is something off.']\n",
      "13621\n"
     ]
    }
   ],
   "source": [
    "print(user_conv['panda527'])\n",
    "print(len(user_conv))"
   ]
  },
  {
   "cell_type": "code",
   "execution_count": 32,
   "metadata": {},
   "outputs": [],
   "source": [
    "uttid_with_multi_lang_users = []\n",
    "for usr in user_conv:\n",
    "    for des in user_conv[usr]:\n",
    "        uttid_with_multi_lang_users.append(des['id'])"
   ]
  },
  {
   "cell_type": "code",
   "execution_count": 33,
   "metadata": {},
   "outputs": [
    {
     "name": "stdout",
     "output_type": "stream",
     "text": [
      "['o12ea', '2u3z9n', 'c2sf8te', 'c2sfb3a', 'c2tz15c', 'c35r171', 'c37bmet', 'c37cc08', 'c37cwn7', 'c37g7u1']\n"
     ]
    }
   ],
   "source": [
    "print(uttid_with_multi_lang_users[:10])"
   ]
  },
  {
   "cell_type": "code",
   "execution_count": 34,
   "metadata": {},
   "outputs": [],
   "source": [
    "eng_filtered_convs = []\n",
    "for conv in germany.iter_conversations():\n",
    "    for uttid in conv._utterance_ids:\n",
    "        eng_filtered_convs.append(uttid)"
   ]
  },
  {
   "cell_type": "code",
   "execution_count": 35,
   "metadata": {},
   "outputs": [
    {
     "name": "stdout",
     "output_type": "stream",
     "text": [
      "['cmiy0', 'cmvu8', 'c0tpolx', 'c0tqmtk', 'c0ww9oz', 'cn62c', 'co951', 'cpsyd', 'c0uej3z', 'c0uemy0']\n"
     ]
    }
   ],
   "source": [
    "print(eng_filtered_convs[:10])"
   ]
  },
  {
   "cell_type": "markdown",
   "metadata": {},
   "source": [
    "#### Constructing training set\n",
    "12000 bilingual users and 12000 no cross-over users"
   ]
  },
  {
   "cell_type": "code",
   "execution_count": 56,
   "metadata": {},
   "outputs": [],
   "source": [
    "import random\n",
    "bi_users = list(user_conv.keys())\n",
    "random.shuffle(bi_users)\n",
    "bi_users = bi_users[:12000]\n",
    "bi_utt = {}\n",
    "for usr in bi_users:\n",
    "    bi_utt[usr] = user_conv[usr]"
   ]
  },
  {
   "cell_type": "code",
   "execution_count": 58,
   "metadata": {},
   "outputs": [],
   "source": [
    "sin_utts = {}\n",
    "for utt in germany.iter_utterances():\n",
    "    usr = utt.user.name\n",
    "    if usr not in sin_users or usr == '[deleted]':\n",
    "        continue\n",
    "    if usr not in sin_utts and utt.text != '':\n",
    "        sin_utts[usr] = [utt.text]\n",
    "    elif usr in sin_utts and utt.text != '':\n",
    "        sin_utts[usr].append(utt.text)\n",
    "sin_users = list(sin_utts.keys())\n",
    "random.shuffle(sin_users)\n",
    "sin_users = sin_users[:12000]\n",
    "sin_utt = {}\n",
    "for usr in sin_users:\n",
    "    sin_utt[usr] = sin_utts[usr]"
   ]
  },
  {
   "cell_type": "code",
   "execution_count": 60,
   "metadata": {},
   "outputs": [
    {
     "name": "stdout",
     "output_type": "stream",
     "text": [
      "['What do blondes and spaghetti have in common? They both wiggle when you eat them.', 'What do blondes and spaghetti have in common? They both wiggle when you eat them.', '(╯ಠ_ಠ）╯︵ ┻━┻', 'Did you hear about the Italian chef that died? He pasta way. ']\n",
      "['Nice meme', 'Euro Truck Simulator 2']\n"
     ]
    }
   ],
   "source": [
    "print(bi_utt['I_Like_Spaghetti'])\n",
    "print(sin_utt['EureMutter'])"
   ]
  },
  {
   "cell_type": "code",
   "execution_count": 5,
   "metadata": {},
   "outputs": [],
   "source": [
    "def produce_user_contribution_string(user: User) -> str:\n",
    "    res = \"\"\n",
    "    for utt in user.iter_utterances():\n",
    "        res += utt.text + \" \"\n",
    "    return res"
   ]
  },
  {
   "cell_type": "code",
   "execution_count": 10,
   "metadata": {},
   "outputs": [
    {
     "name": "stdout",
     "output_type": "stream",
     "text": [
      "6206892\n",
      "4464\n",
      "6206892\n",
      "6206892\n",
      "1\n",
      "259\n",
      "6206892\n",
      "1223\n",
      "6206892\n",
      "5264\n",
      "5264\n",
      "1\n",
      "6206892\n",
      "428\n",
      "36\n",
      "34588\n",
      "6206892\n",
      "1\n",
      "4510\n",
      "594\n",
      "34588\n",
      "19417\n",
      "427\n",
      "9077\n",
      "2679\n",
      "6206892\n",
      "1666\n",
      "2261\n",
      "61279\n",
      "785\n",
      "1140\n",
      "1140\n",
      "1481\n",
      "67\n",
      "3\n",
      "3\n",
      "3\n",
      "1877\n",
      "6206892\n",
      "6206892\n",
      "2261\n",
      "10\n",
      "785\n",
      "3146\n",
      "2538\n",
      "288\n",
      "5051\n",
      "1765\n",
      "788\n",
      "2516\n",
      "35322\n",
      "924\n",
      "510\n",
      "9836\n",
      "8645\n",
      "1399\n",
      "5051\n",
      "1\n",
      "3146\n",
      "6206892\n",
      "1264\n",
      "6206892\n",
      "3399\n",
      "2220\n",
      "359\n",
      "363\n",
      "6933\n",
      "9077\n",
      "4943\n",
      "6206892\n",
      "6206892\n",
      "908\n",
      "1481\n",
      "523\n",
      "6206892\n",
      "6206892\n",
      "1\n",
      "888\n",
      "2765\n",
      "5\n",
      "6206892\n",
      "1\n",
      "888\n",
      "2776\n",
      "733\n",
      "9077\n",
      "67\n",
      "6206892\n",
      "67\n",
      "676\n",
      "5816\n",
      "6206892\n",
      "6\n",
      "25489\n",
      "831\n",
      "887041\n",
      "6\n",
      "669\n",
      "9077\n",
      "520\n"
     ]
    }
   ],
   "source": [
    "i = 0\n",
    "for utt in germany.iter_utterances():\n",
    "    if i < 100:\n",
    "        print(len(produce_user_contribution_string(utt.user)))\n",
    "    i += 1"
   ]
  },
  {
   "cell_type": "code",
   "execution_count": null,
   "metadata": {},
   "outputs": [],
   "source": []
  }
 ],
 "metadata": {
  "colab": {
   "name": "Untitled2.ipynb",
   "provenance": []
  },
  "kernelspec": {
   "display_name": "Python 3",
   "language": "python",
   "name": "python3"
  },
  "language_info": {
   "codemirror_mode": {
    "name": "ipython",
    "version": 3
   },
   "file_extension": ".py",
   "mimetype": "text/x-python",
   "name": "python",
   "nbconvert_exporter": "python",
   "pygments_lexer": "ipython3",
   "version": "3.7.4"
  }
 },
 "nbformat": 4,
 "nbformat_minor": 1
}
